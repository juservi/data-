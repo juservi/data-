{
 "cells": [
  {
   "cell_type": "markdown",
   "metadata": {},
   "source": [
    "http://www.dontpad.com/mat5a/mod1\n",
    "wikidata dbpedia \n",
    "livro SPARQL\n",
    "youtube what is linked data "
   ]
  },
  {
   "cell_type": "markdown",
   "metadata": {},
   "source": [
    "1. Topico 1\n",
    "\n",
    "1. Topico 2\n",
    "    \n",
    "    1. Sub topico 1\n",
    "    \n",
    "    1. Sub topico 2\n",
    "    \n",
    "        1. Sub sub topico 1\n",
    "        \n",
    "        1. Sub sub topico 2\n",
    "        "
   ]
  },
  {
   "cell_type": "markdown",
   "metadata": {},
   "source": [
    "# Chegou a hora de aprender Python\n",
    "\n",
    "![quer saber?](https://media.giphy.com/media/iPTTjEt19igne/giphy.gif)\n",
    "\n",
    "![siga](https://media.giphy.com/media/jzRnjCHIuIFQ4/giphy.gif)\n"
   ]
  },
  {
   "cell_type": "markdown",
   "metadata": {},
   "source": [
    "## Por que aprender Python?"
   ]
  },
  {
   "cell_type": "code",
   "execution_count": 1,
   "metadata": {},
   "outputs": [
    {
     "data": {
      "text/html": [
       "<iframe width=\"560\" height=\"315\" src=\"https://www.youtube.com/embed/cKzP61Gjf00\" showinfo=1 frameborder=\"0\" allow=\"accelerometer; autoplay; encrypted-media; gyroscope; picture-in-picture\" allowfullscreen></iframe>"
      ],
      "text/plain": [
       "<IPython.core.display.HTML object>"
      ]
     },
     "execution_count": 1,
     "metadata": {},
     "output_type": "execute_result"
    }
   ],
   "source": [
    "from IPython.display import HTML\n",
    "\n",
    "link_youtube = 'https://www.youtube.com/embed/cKzP61Gjf00'\n",
    "\n",
    "HTML(f'<iframe width=\"560\" height=\"315\" src=\"{link_youtube}\" showinfo=1 frameborder=\"0\" allow=\"accelerometer; autoplay; encrypted-media; gyroscope; picture-in-picture\" allowfullscreen></iframe>')\n"
   ]
  },
  {
   "cell_type": "markdown",
   "metadata": {},
   "source": [
    "# Antes de começar\n",
    "\n",
    "## Nós estamos usando o Jupyter Lab. Por que?"
   ]
  },
  {
   "cell_type": "code",
   "execution_count": 2,
   "metadata": {},
   "outputs": [],
   "source": [
    "# aqui vamos testar algumas coisas no jupyter lab"
   ]
  },
  {
   "cell_type": "code",
   "execution_count": 3,
   "metadata": {},
   "outputs": [],
   "source": [
    "# bloco 1"
   ]
  },
  {
   "cell_type": "code",
   "execution_count": 4,
   "metadata": {},
   "outputs": [],
   "source": [
    "# bloco 2"
   ]
  },
  {
   "cell_type": "code",
   "execution_count": 5,
   "metadata": {},
   "outputs": [],
   "source": [
    "# bloco 3"
   ]
  },
  {
   "cell_type": "code",
   "execution_count": 6,
   "metadata": {},
   "outputs": [],
   "source": [
    "# bloco 4"
   ]
  },
  {
   "cell_type": "code",
   "execution_count": 7,
   "metadata": {},
   "outputs": [],
   "source": [
    "# bloco 5"
   ]
  },
  {
   "cell_type": "markdown",
   "metadata": {},
   "source": [
    "### Atalhos do Jupyter\n",
    "\n",
    "(completar com os alunos)\n",
    "\n",
    "- Em modo Comandante (aperte o ```Esc```):\n",
    "\n",
    "    - ```Shift``` + ```Espaço```: SOBE A TELA\n",
    "    \n",
    "    - ```Espaço``` : DESCE A TELA\n",
    "\n",
    "    - ```Y``` :MODO EDIÇÃO \n",
    "    \n",
    "    - ```Shift``` + ```Enter``` : RUN\n",
    "    \n",
    "    - ```M``` : MARKDOWN\n",
    "\n",
    "    - ```Enter``` : MODO EDIÇÃO CÓDIGO\n",
    "    \n",
    "    - ```Seta pra cima``` : vai nas células de cima \n",
    "    \n",
    "    - ```Seta pra baixo``` ...\n",
    "    \n",
    "    - ```Shift``` + ```Seta pra cima``` ...\n",
    "    \n",
    "    - ```Shift``` + ```Seta pra baixo``` ...\n",
    "    \n",
    "    - ```A``` ...\n",
    "    \n",
    "    - ```B``` ...\n",
    "    \n",
    "    - ```D``` + ```D``` ...\n",
    "    \n",
    "    - ```X``` ...\n",
    "    \n",
    "    - ```C``` ...\n",
    "    \n",
    "    - ```V``` ...\n",
    "    \n",
    "    - ```Shift``` + ```V``` ...\n",
    "        \n",
    "    - ```Z``` ...\n",
    "    \n"
   ]
  },
  {
   "cell_type": "code",
   "execution_count": 8,
   "metadata": {},
   "outputs": [
    {
     "name": "stdout",
     "output_type": "stream",
     "text": [
      "Rrrrodou!\n"
     ]
    }
   ],
   "source": [
    "# Em modo Edição:\n",
    "\n",
    "# Shift + Enter\n",
    "import pandas as pd\n",
    "\n",
    "nome_da_variavel = 'Rrrrodou!'\n",
    "\n",
    "print(nome_da_variavel)"
   ]
  },
  {
   "cell_type": "markdown",
   "metadata": {},
   "source": [
    "# Tab ... (1)\n",
    "    pd.read_csv() shift dentro do enter dá a documentação\n",
    "\n",
    "# Tab ... (2)\n",
    "\n",
    "# Ctrl + A \n",
    "\n",
    "# shift + Seta pra cima ...\n",
    "\n",
    "# shift + Seta pra baixo ...\n",
    "\n",
    "# shift + Seta pra direita ...\n",
    "\n",
    "# shift + Seta pra esquerda ...\n",
    "\n",
    "# shift + D ...\n",
    "\n",
    "# usando as setas"
   ]
  },
  {
   "cell_type": "markdown",
   "metadata": {},
   "source": [
    "![boa!](https://media.giphy.com/media/nXxOjZrbnbRxS/giphy.gif)"
   ]
  },
  {
   "cell_type": "markdown",
   "metadata": {},
   "source": [
    "# Repetição\n",
    "\n",
    "Técnica ideal para iniciantes pois utiliza uma sequência de desafios controlados e projetados para você adquirir a habilidade de programar através da repetição. \n",
    "\n",
    "![luta](https://media.giphy.com/media/fSSGX7IHcqlDYwVYsH/giphy.gif)"
   ]
  },
  {
   "cell_type": "markdown",
   "metadata": {},
   "source": [
    "## Os problemas vão ficando cada vez mais difíceis\n",
    "\n",
    "![Hora de comecar](https://media.giphy.com/media/AoSMPAREugAAo/giphy.gif)\n",
    "\n",
    "A única habilidade que separa os bons programadores dos ruins é a **atenção aos detalhes**. De fato, é isso que separa o bom do ruim em qualquer profissão."
   ]
  },
  {
   "cell_type": "markdown",
   "metadata": {},
   "source": [
    "## Não Copie e Cole\n",
    "\n",
    "![Fraud](https://media.giphy.com/media/hgjNPEmAmpCMM/giphy.gif)\n",
    "\n",
    "Se for para copiar e colar, não perca seu tempo usando esse manual!\n",
    "\n",
    "**Tudo o que vale a pena é difícil no início.**\n",
    "\n",
    "Mesmo que esteja difícil continue tentando. Com o tempo você descobrirá que tudo ficará mais fácil e divertido."
   ]
  },
  {
   "cell_type": "markdown",
   "metadata": {},
   "source": [
    "## A habilidade mais importante de um programador é a Resolução de Problemas\n",
    "\n",
    "\n",
    "![habilidade](https://media.giphy.com/media/1flAwtHCYosL6LWnHr/giphy.gif)\n",
    "\n",
    "Resolução de problemas significa:\n",
    "\n",
    "- Capacidade de formular problemas\n",
    "    \n",
    "- Pensar criativamente em soluções \n",
    "    \n",
    "- Expressar uma solução de forma clara e precisa.\n",
    "\n",
    "No início você aprenderá a programar, depois usará a programação como um meio para um fim.\n",
    "\n",
    "![math](https://media.giphy.com/media/BmmfETghGOPrW/giphy.gif)"
   ]
  },
  {
   "cell_type": "markdown",
   "metadata": {},
   "source": [
    "# O que é um programa?\n",
    "\n",
    "Um programa é uma sequência de instruções. \n",
    "\n",
    "Podemos resumir a **sequência de instruções** em:\n",
    "\n",
    "- Parte de fora:\n",
    "    \n",
    "    - **Entrada:** Receber dados de um arquivo, rede, ou de algum dispositivo.\n",
    "\n",
    "    - **Saída:** Exibir dados na tela, salvá-los em um arquivo, enviá-los pela rede, etc.\n",
    "\n",
    "- Parte de dentro:\n",
    "\n",
    "    - **Matemática:** Executar operações matemáticas básicas como adição e multiplicação.\n",
    "\n",
    "    - **Execução condicional:** Verificar a existência de certas condições e executar o código adequado.\n",
    "\n",
    "Basicamente, isso é tudo o que você precisa saber."
   ]
  },
  {
   "cell_type": "markdown",
   "metadata": {},
   "source": [
    "# Operadores\n",
    "\n",
    "| Operador | Operação | Exemplo | Resposta |\n",
    "| --- | --- | --- | --- |\n",
    "| ** | Exponencial | 2 ** 3 | 8 |\n",
    "| % | Módulo/Resto | 9%2 | 1 |\n",
    "| // | Divisão Inteira | 21/4 | 5 |\n",
    "| / | Divisão | 21/4 | 5.25 |\n",
    "| * | Multiplicação | 2 * 3 | 6 |\n",
    "| - | Subtração | 2 - 3 | -1 |\n",
    "| + | Adição | 2 + 3 | 5 |"
   ]
  },
  {
   "cell_type": "code",
   "execution_count": 9,
   "metadata": {},
   "outputs": [
    {
     "data": {
      "text/plain": [
       "8"
      ]
     },
     "execution_count": 9,
     "metadata": {},
     "output_type": "execute_result"
    }
   ],
   "source": [
    "# Vamos realizar uns exemplos simples de matemática abaixo\n",
    "\n",
    "2**3"
   ]
  },
  {
   "cell_type": "code",
   "execution_count": 10,
   "metadata": {},
   "outputs": [
    {
     "data": {
      "text/plain": [
       "7"
      ]
     },
     "execution_count": 10,
     "metadata": {},
     "output_type": "execute_result"
    }
   ],
   "source": [
    "3+4"
   ]
  },
  {
   "cell_type": "code",
   "execution_count": 11,
   "metadata": {},
   "outputs": [
    {
     "data": {
      "text/plain": [
       "-2"
      ]
     },
     "execution_count": 11,
     "metadata": {},
     "output_type": "execute_result"
    }
   ],
   "source": [
    "3-5"
   ]
  },
  {
   "cell_type": "code",
   "execution_count": 12,
   "metadata": {},
   "outputs": [
    {
     "data": {
      "text/plain": [
       "12"
      ]
     },
     "execution_count": 12,
     "metadata": {},
     "output_type": "execute_result"
    }
   ],
   "source": [
    "3*4"
   ]
  },
  {
   "cell_type": "code",
   "execution_count": 13,
   "metadata": {},
   "outputs": [
    {
     "data": {
      "text/plain": [
       "4.333333333333333"
      ]
     },
     "execution_count": 13,
     "metadata": {},
     "output_type": "execute_result"
    }
   ],
   "source": [
    "13/3"
   ]
  },
  {
   "cell_type": "code",
   "execution_count": null,
   "metadata": {},
   "outputs": [],
   "source": []
  },
  {
   "cell_type": "markdown",
   "metadata": {},
   "source": [
    "| Operador | Operação | Exemplo | Resposta |\n",
    "| --- | --- | --- | --- |\n",
    "| >= | Maior Igual | 2 >= 2 | True |\n",
    "| > | Maior | 2 > 2 | False |\n",
    "| <= | Menor Igual | 3 <= 3 | True |\n",
    "| < | Menor | 3 < 2 | False |\n",
    "| == | Igual (comparação) | 3 == 3 | True |\n",
    "| != | Diferente | 2 != 3 | True |"
   ]
  },
  {
   "cell_type": "code",
   "execution_count": 14,
   "metadata": {},
   "outputs": [],
   "source": [
    "nivel_universitario = True\n",
    "ingles = True"
   ]
  },
  {
   "cell_type": "code",
   "execution_count": 15,
   "metadata": {},
   "outputs": [
    {
     "data": {
      "text/plain": [
       "True"
      ]
     },
     "execution_count": 15,
     "metadata": {},
     "output_type": "execute_result"
    }
   ],
   "source": [
    "nivel_universitario and ingles"
   ]
  },
  {
   "cell_type": "code",
   "execution_count": 16,
   "metadata": {},
   "outputs": [],
   "source": [
    "# Vamos realizar uns exemplos simples de execução condicional abaixo"
   ]
  },
  {
   "cell_type": "code",
   "execution_count": null,
   "metadata": {},
   "outputs": [],
   "source": []
  },
  {
   "cell_type": "markdown",
   "metadata": {},
   "source": [
    "| Expressão | Avaliada como... \n",
    "| --- | --- | \n",
    "| True and True | True |\n",
    "| True and False | False |\n",
    "| False and True | False |\n",
    "| False and False | False |"
   ]
  },
  {
   "cell_type": "code",
   "execution_count": null,
   "metadata": {},
   "outputs": [],
   "source": []
  },
  {
   "cell_type": "markdown",
   "metadata": {},
   "source": [
    "| Expressão | Avaliada como... \n",
    "| --- | --- | \n",
    "| True or True | True |\n",
    "| True or False | True |\n",
    "| False or True | True |\n",
    "| False or False | False |"
   ]
  },
  {
   "cell_type": "code",
   "execution_count": null,
   "metadata": {},
   "outputs": [],
   "source": []
  },
  {
   "cell_type": "markdown",
   "metadata": {},
   "source": [
    "| Expressão | Avaliada como... \n",
    "| --- | --- | \n",
    "| not True | False |\n",
    "| not False | True |"
   ]
  },
  {
   "cell_type": "code",
   "execution_count": null,
   "metadata": {},
   "outputs": [],
   "source": []
  },
  {
   "cell_type": "markdown",
   "metadata": {},
   "source": [
    "# O que são tipos de dados? Quais são os principais tipos de dados no Python?\n",
    "\n",
    "## Int (inteiro)"
   ]
  },
  {
   "cell_type": "code",
   "execution_count": 17,
   "metadata": {},
   "outputs": [],
   "source": [
    "# Exemplos de int"
   ]
  },
  {
   "cell_type": "markdown",
   "metadata": {},
   "source": [
    "## Float (ponto flutuante)"
   ]
  },
  {
   "cell_type": "code",
   "execution_count": 18,
   "metadata": {},
   "outputs": [],
   "source": [
    "# Exemplos de float"
   ]
  },
  {
   "cell_type": "markdown",
   "metadata": {},
   "source": [
    "## Array (listas)"
   ]
  },
  {
   "cell_type": "code",
   "execution_count": 19,
   "metadata": {},
   "outputs": [],
   "source": [
    "# Exemplos de Array"
   ]
  },
  {
   "cell_type": "code",
   "execution_count": 20,
   "metadata": {},
   "outputs": [],
   "source": [
    "# Acessando valores"
   ]
  },
  {
   "cell_type": "code",
   "execution_count": 21,
   "metadata": {},
   "outputs": [],
   "source": [
    "# Removendo valores"
   ]
  },
  {
   "cell_type": "code",
   "execution_count": 22,
   "metadata": {},
   "outputs": [],
   "source": [
    "# Ordenando listas"
   ]
  },
  {
   "cell_type": "code",
   "execution_count": 23,
   "metadata": {},
   "outputs": [],
   "source": [
    "# Ordem Inversa"
   ]
  },
  {
   "cell_type": "code",
   "execution_count": 24,
   "metadata": {},
   "outputs": [],
   "source": [
    "# Listas numericas"
   ]
  },
  {
   "cell_type": "markdown",
   "metadata": {},
   "source": [
    "## Strings (texto)"
   ]
  },
  {
   "cell_type": "code",
   "execution_count": 25,
   "metadata": {},
   "outputs": [],
   "source": [
    "# Exemplos de Texto"
   ]
  },
  {
   "cell_type": "code",
   "execution_count": 26,
   "metadata": {},
   "outputs": [],
   "source": [
    "# Alguns métodos de String"
   ]
  },
  {
   "cell_type": "code",
   "execution_count": 27,
   "metadata": {},
   "outputs": [],
   "source": [
    "# Contatenando variaveis de String"
   ]
  },
  {
   "cell_type": "markdown",
   "metadata": {},
   "source": [
    "## Bools (Verdadeiro e Falso)"
   ]
  },
  {
   "cell_type": "code",
   "execution_count": 28,
   "metadata": {},
   "outputs": [],
   "source": [
    "# Exemplos de Verdadeiros e Falsos"
   ]
  },
  {
   "cell_type": "markdown",
   "metadata": {},
   "source": [
    "# Funções"
   ]
  },
  {
   "cell_type": "code",
   "execution_count": 29,
   "metadata": {},
   "outputs": [],
   "source": [
    "# sobre funcoes"
   ]
  },
  {
   "cell_type": "code",
   "execution_count": 30,
   "metadata": {},
   "outputs": [],
   "source": [
    "# passando argumentos"
   ]
  },
  {
   "cell_type": "code",
   "execution_count": 31,
   "metadata": {},
   "outputs": [],
   "source": [
    "# retornando valores"
   ]
  },
  {
   "cell_type": "markdown",
   "metadata": {},
   "source": [
    "# Exercícios\n",
    "\n",
    "## Mudando os tipos de dados\n",
    "\n",
    "```python\n",
    "\n",
    "str() # converter para textp\n",
    "int() # converter para inteiro\n",
    "float() # converter para float\n",
    "\n",
    "```"
   ]
  },
  {
   "cell_type": "code",
   "execution_count": null,
   "metadata": {},
   "outputs": [],
   "source": []
  },
  {
   "cell_type": "markdown",
   "metadata": {},
   "source": [
    "# Exercícios\n",
    "\n",
    "## Quantos segundos há em 55 minutos e 55 segundos?\n",
    "\n",
    "Vamos criar uma variável chamada resposta e **atribuir** valor a ela."
   ]
  },
  {
   "cell_type": "code",
   "execution_count": 32,
   "metadata": {
    "ExecuteTime": {
     "end_time": "2019-11-11T22:29:44.665981Z",
     "start_time": "2019-11-11T22:29:44.653846Z"
    }
   },
   "outputs": [],
   "source": [
    "# digite a sua resposta após da declaração da variável resposta\n",
    "resposta = 55 * 60 + 55"
   ]
  },
  {
   "cell_type": "code",
   "execution_count": 33,
   "metadata": {
    "ExecuteTime": {
     "end_time": "2019-11-11T22:29:45.131662Z",
     "start_time": "2019-11-11T22:29:45.118339Z"
    }
   },
   "outputs": [
    {
     "data": {
      "text/plain": [
       "3355"
      ]
     },
     "execution_count": 33,
     "metadata": {},
     "output_type": "execute_result"
    }
   ],
   "source": [
    "# fazendo o output da resposta\n",
    "resposta"
   ]
  },
  {
   "cell_type": "markdown",
   "metadata": {},
   "source": [
    "**Resultado =** 3355"
   ]
  },
  {
   "cell_type": "markdown",
   "metadata": {},
   "source": [
    "## Imprimindo a resposta com texto"
   ]
  },
  {
   "cell_type": "code",
   "execution_count": 34,
   "metadata": {
    "ExecuteTime": {
     "end_time": "2019-11-11T22:40:55.746148Z",
     "start_time": "2019-11-11T22:40:55.742256Z"
    }
   },
   "outputs": [
    {
     "name": "stdout",
     "output_type": "stream",
     "text": [
      "A reposta para a pergunta acima é 3355 segundos.\n"
     ]
    }
   ],
   "source": [
    "print(f\"A reposta para a pergunta acima é {resposta} segundos.\")"
   ]
  },
  {
   "cell_type": "markdown",
   "metadata": {},
   "source": [
    "Podemos ver que temos um ```f``` antes das aspas duplas ```\"```. Com ela posta podemos imprimir nossas variáveis dentro das funções ```print()``` colocando as variáveis entre chaves ```{}```."
   ]
  },
  {
   "cell_type": "code",
   "execution_count": 35,
   "metadata": {
    "ExecuteTime": {
     "end_time": "2019-11-11T22:43:32.574150Z",
     "start_time": "2019-11-11T22:43:32.569860Z"
    }
   },
   "outputs": [
    {
     "name": "stdout",
     "output_type": "stream",
     "text": [
      "por que não imprimiu o resultado de {dois} vezes {quatro}?\n"
     ]
    }
   ],
   "source": [
    "dois = 2\n",
    "quatro = 4\n",
    "\n",
    "dois_vezes_quatro = 2 * 4\n",
    "\n",
    "print(\"por que não imprimiu o resultado de {dois} vezes {quatro}?\")"
   ]
  },
  {
   "cell_type": "code",
   "execution_count": 36,
   "metadata": {
    "ExecuteTime": {
     "end_time": "2019-11-11T22:44:06.216844Z",
     "start_time": "2019-11-11T22:44:06.213903Z"
    }
   },
   "outputs": [
    {
     "name": "stdout",
     "output_type": "stream",
     "text": [
      "Aqui imprimiu o resultado de 2 vezes 4, que é 8. Por que?\n"
     ]
    }
   ],
   "source": [
    "print(f\"Aqui imprimiu o resultado de {dois} vezes {quatro}, que é {dois_vezes_quatro}. Por que?\")"
   ]
  },
  {
   "cell_type": "markdown",
   "metadata": {},
   "source": [
    "Observe que na expressão acima video ```2``` e não ```{dois}```. Por que?"
   ]
  },
  {
   "cell_type": "markdown",
   "metadata": {},
   "source": [
    "# Importando Bibliotecas"
   ]
  },
  {
   "cell_type": "code",
   "execution_count": 37,
   "metadata": {},
   "outputs": [],
   "source": [
    "# importando a biblioteca math\n"
   ]
  },
  {
   "cell_type": "markdown",
   "metadata": {},
   "source": [
    "# Dados\n",
    "\n",
    "Hoje em dia negócios devem ser mais lucrativos, reagir mais rapidamente e oferecer produtos e serviços de maior qualidade, e ainda fazer tudo isso com menos pessoas e a um menor custo. Uma exigência essencial nesse processo é a criação e o gerenciamento de conhecimento eficaz. Não há falta de informação, mas escassez de conhecimento. \n",
    "\n",
    "A informação disponível na tomada de decisões explodiu nos últimos anos e irá continuar assim no futuro, provavelmente até mais rapidamente. Até recentemente, muito dessa informação simplesmente desaparecia. Ou não era coletada, ou era descartada. Hoje, essa informação está sendo coletada e armazenada em bancos de dados e está disponível para ser feita a “garimpagem” para fins de melhoria na tomada de decisões. \n",
    "\n"
   ]
  },
  {
   "cell_type": "code",
   "execution_count": 38,
   "metadata": {},
   "outputs": [],
   "source": [
    "import pandas as pd"
   ]
  },
  {
   "cell_type": "code",
   "execution_count": 39,
   "metadata": {
    "jupyter": {
     "source_hidden": true
    }
   },
   "outputs": [
    {
     "data": {
      "text/html": [
       "<div>\n",
       "<style scoped>\n",
       "    .dataframe tbody tr th:only-of-type {\n",
       "        vertical-align: middle;\n",
       "    }\n",
       "\n",
       "    .dataframe tbody tr th {\n",
       "        vertical-align: top;\n",
       "    }\n",
       "\n",
       "    .dataframe thead th {\n",
       "        text-align: right;\n",
       "    }\n",
       "</style>\n",
       "<table border=\"1\" class=\"dataframe\">\n",
       "  <thead>\n",
       "    <tr style=\"text-align: right;\">\n",
       "      <th></th>\n",
       "      <th>Nominal</th>\n",
       "      <th>Ordinal</th>\n",
       "      <th>Intervalar</th>\n",
       "      <th>Razão</th>\n",
       "    </tr>\n",
       "  </thead>\n",
       "  <tbody>\n",
       "    <tr>\n",
       "      <td>Pode ser Etiquetada</td>\n",
       "      <td>Sim</td>\n",
       "      <td>Sim</td>\n",
       "      <td>Sim</td>\n",
       "      <td>Sim</td>\n",
       "    </tr>\n",
       "    <tr>\n",
       "      <td>Ordem é Significativa</td>\n",
       "      <td>Não</td>\n",
       "      <td>Sim</td>\n",
       "      <td>Sim</td>\n",
       "      <td>Sim</td>\n",
       "    </tr>\n",
       "    <tr>\n",
       "      <td>Diferença é Mensurável</td>\n",
       "      <td>Não</td>\n",
       "      <td>Não</td>\n",
       "      <td>Sim</td>\n",
       "      <td>Sim</td>\n",
       "    </tr>\n",
       "    <tr>\n",
       "      <td>Zero como ponto de partida</td>\n",
       "      <td>Não</td>\n",
       "      <td>Não</td>\n",
       "      <td>Não</td>\n",
       "      <td>Sim</td>\n",
       "    </tr>\n",
       "  </tbody>\n",
       "</table>\n",
       "</div>"
      ],
      "text/plain": [
       "                           Nominal Ordinal Intervalar Razão\n",
       "Pode ser Etiquetada            Sim     Sim        Sim   Sim\n",
       "Ordem é Significativa          Não     Sim        Sim   Sim\n",
       "Diferença é Mensurável         Não     Não        Sim   Sim\n",
       "Zero como ponto de partida     Não     Não        Não   Sim"
      ]
     },
     "execution_count": 39,
     "metadata": {},
     "output_type": "execute_result"
    }
   ],
   "source": [
    "data = [['Sim', 'Sim', 'Sim', 'Sim'], ['Não', 'Sim', 'Sim', 'Sim'],\n",
    "        ['Não', 'Não', 'Sim', 'Sim'], ['Não', 'Não', 'Não', 'Sim']]\n",
    "pd.DataFrame(data, columns=[\"Nominal\", \"Ordinal\", \"Intervalar\", \"Razão\"], \n",
    "             index=['Pode ser Etiquetada', 'Ordem é Significativa', 'Diferença é Mensurável', 'Zero como ponto de partida'])"
   ]
  },
  {
   "cell_type": "code",
   "execution_count": 40,
   "metadata": {
    "jupyter": {
     "source_hidden": true
    }
   },
   "outputs": [
    {
     "data": {
      "text/html": [
       "<div>\n",
       "<style scoped>\n",
       "    .dataframe tbody tr th:only-of-type {\n",
       "        vertical-align: middle;\n",
       "    }\n",
       "\n",
       "    .dataframe tbody tr th {\n",
       "        vertical-align: top;\n",
       "    }\n",
       "\n",
       "    .dataframe thead th {\n",
       "        text-align: right;\n",
       "    }\n",
       "</style>\n",
       "<table border=\"1\" class=\"dataframe\">\n",
       "  <thead>\n",
       "    <tr style=\"text-align: right;\">\n",
       "      <th></th>\n",
       "      <th>=/≠</th>\n",
       "      <th>&lt;/&gt;</th>\n",
       "      <th>+/-</th>\n",
       "      <th>*/÷</th>\n",
       "    </tr>\n",
       "  </thead>\n",
       "  <tbody>\n",
       "    <tr>\n",
       "      <td>Nominal</td>\n",
       "      <td>Sim</td>\n",
       "      <td>Não</td>\n",
       "      <td>Não</td>\n",
       "      <td>Não</td>\n",
       "    </tr>\n",
       "    <tr>\n",
       "      <td>Ordinal</td>\n",
       "      <td>Sim</td>\n",
       "      <td>Sim</td>\n",
       "      <td>Não</td>\n",
       "      <td>Não</td>\n",
       "    </tr>\n",
       "    <tr>\n",
       "      <td>Intervalar</td>\n",
       "      <td>Sim</td>\n",
       "      <td>Sim</td>\n",
       "      <td>Sim</td>\n",
       "      <td>Não</td>\n",
       "    </tr>\n",
       "    <tr>\n",
       "      <td>Razão</td>\n",
       "      <td>Sim</td>\n",
       "      <td>Sim</td>\n",
       "      <td>Sim</td>\n",
       "      <td>Sim</td>\n",
       "    </tr>\n",
       "  </tbody>\n",
       "</table>\n",
       "</div>"
      ],
      "text/plain": [
       "            =/≠  </>  +/-  */÷\n",
       "Nominal     Sim  Não  Não  Não\n",
       "Ordinal     Sim  Sim  Não  Não\n",
       "Intervalar  Sim  Sim  Sim  Não\n",
       "Razão       Sim  Sim  Sim  Sim"
      ]
     },
     "execution_count": 40,
     "metadata": {},
     "output_type": "execute_result"
    }
   ],
   "source": [
    "data = [['Sim', 'Não', 'Não', 'Não'], ['Sim', 'Sim', 'Não', 'Não'],\n",
    "        ['Sim', 'Sim', 'Sim', 'Não'], ['Sim', 'Sim', 'Sim', 'Sim']]\n",
    "pd.DataFrame(data, columns=[\"=/≠\", \"</>\", \"+/-\", \"*/÷\"], \n",
    "             index=[\"Nominal\", \"Ordinal\", \"Intervalar\", \"Razão\"])"
   ]
  },
  {
   "cell_type": "markdown",
   "metadata": {},
   "source": [
    "## Escalas de medida não-métrica\n",
    "\n",
    "Medidas que indicam a presença ou ausência de uma característica ou propriedade.\n",
    "\n",
    "O analista não pode realizar nenhuma operação aritmética (somas, médias, multiplicações, divisões etc.), tornando assim todos os dados não-métricos bastante limitados em seu uso na estimação de coeficientes do modelo. \n",
    "\n",
    "### Escalas nominais\n",
    "\n",
    "Uma escala nominal designa números para rotular ou identificar indivíduos ou objetos.\n",
    "\n",
    "Dados nominais representam somente categorias ou classes, e não implicam quantias de um atributo ou característica. Exemplos freqüentemente usados de dados nominalmente escalonados incluem diversos **atributos demográficos (como sexo, religião, ocupação ou filiação partidária)**, muitas formas de comportamento (como comportamento de voto ou atividade de compra), **ou qualquer outra ação que seja discreta (que acontece ou não)**.\n",
    "\n",
    "### Escalas ordinais\n",
    "\n",
    "Escalas ordinais são o próximo nível “superior” de precisão em medida. No caso de escalas ordinais, variáveis **podem ser ordenadas ou ranqueadas** em relação à quantia do atributo possuída. Todo **indivíduo ou objeto pode ser comparado com outro em termos de uma relação da forma “maior que” ou “menor que”**. Os números empregados em escalas ordinais, contudo, são realmente não-quantitativos porque eles indicam apenas posições relativas em uma série ordenada. **Escalas ordinais não fornecem qualquer medida da quantia ou magnitude real em termos absolutos**, mas apenas a ordem dos valores. O pesquisador conhece a ordem, mas não a quantia de diferença entre os valores."
   ]
  },
  {
   "cell_type": "code",
   "execution_count": 41,
   "metadata": {},
   "outputs": [],
   "source": [
    "import pandas as pd"
   ]
  },
  {
   "cell_type": "markdown",
   "metadata": {},
   "source": [
    "# Escala Nominal\n",
    "\n",
    "1. Qualitativa / Categórica\n",
    "2. Ordem não importa\n",
    "2. Nomes, Cores, Gêneros\n",
    "4. Ou são iguais ou diferentes\n",
    "5. Medições\n",
    "    1. Qui Quadrado\n",
    "    2. Moda (o que mais aparece)\n",
    "    3. Percentual Modal \n",
    "    4. Distribuição de Frequência\n",
    "    6. Não se pode calcular a médias\n",
    "6. Gráficos\n",
    "    1. Pizza\n",
    "    2. Barras"
   ]
  },
  {
   "cell_type": "code",
   "execution_count": 42,
   "metadata": {},
   "outputs": [],
   "source": [
    "# pandas \n",
    "import pandas as pd"
   ]
  },
  {
   "cell_type": "code",
   "execution_count": null,
   "metadata": {},
   "outputs": [],
   "source": []
  },
  {
   "cell_type": "code",
   "execution_count": 43,
   "metadata": {},
   "outputs": [],
   "source": [
    "# Conhecendo um DataFrame (um tipo de tabela)\n",
    "df = pd.read_csv('candidatos_deputados_2014_final.csv', \n",
    "                 encoding = 'latin-1')"
   ]
  },
  {
   "cell_type": "code",
   "execution_count": 44,
   "metadata": {},
   "outputs": [
    {
     "data": {
      "text/html": [
       "<div>\n",
       "<style scoped>\n",
       "    .dataframe tbody tr th:only-of-type {\n",
       "        vertical-align: middle;\n",
       "    }\n",
       "\n",
       "    .dataframe tbody tr th {\n",
       "        vertical-align: top;\n",
       "    }\n",
       "\n",
       "    .dataframe thead th {\n",
       "        text-align: right;\n",
       "    }\n",
       "</style>\n",
       "<table border=\"1\" class=\"dataframe\">\n",
       "  <thead>\n",
       "    <tr style=\"text-align: right;\">\n",
       "      <th></th>\n",
       "      <th>SIGLA_UF</th>\n",
       "      <th>CODIGO_CARGO</th>\n",
       "      <th>DESCRICAO_CARGO</th>\n",
       "      <th>NOME_CANDIDATO</th>\n",
       "      <th>SEQUENCIAL_CANDIDATO</th>\n",
       "      <th>COD_SITUACAO_CANDIDATURA</th>\n",
       "      <th>DES_SITUACAO_CANDIDATURA</th>\n",
       "      <th>NUMERO_PARTIDO</th>\n",
       "      <th>CODIGO_LEGENDA</th>\n",
       "      <th>CODIGO_OCUPACAO</th>\n",
       "      <th>...</th>\n",
       "      <th>TP_RECEITA_APLICACAO</th>\n",
       "      <th>TP_RECEITA_EVENTO</th>\n",
       "      <th>TP_RECEITA_FISICA</th>\n",
       "      <th>TP_RECEITA_INTERNET</th>\n",
       "      <th>TP_RECEITA_JURIDICA</th>\n",
       "      <th>TP_RECEITA_NAO_IDENTIFICADA</th>\n",
       "      <th>TP_RECEITA_OUTRO</th>\n",
       "      <th>TP_RECEITA_PARTIDO</th>\n",
       "      <th>TP_RECEITA_PROPRIO</th>\n",
       "      <th>VALOR_RECEITA</th>\n",
       "    </tr>\n",
       "  </thead>\n",
       "  <tbody>\n",
       "    <tr>\n",
       "      <td>0</td>\n",
       "      <td>AC</td>\n",
       "      <td>7</td>\n",
       "      <td>DEPUTADO ESTADUAL</td>\n",
       "      <td>BENEDITO SILVA BARBOSA</td>\n",
       "      <td>10000000504</td>\n",
       "      <td>2</td>\n",
       "      <td>DEFERIDO</td>\n",
       "      <td>23</td>\n",
       "      <td>10000000034</td>\n",
       "      <td>266</td>\n",
       "      <td>...</td>\n",
       "      <td>0.0</td>\n",
       "      <td>0.0</td>\n",
       "      <td>0.0</td>\n",
       "      <td>0.0</td>\n",
       "      <td>0.0</td>\n",
       "      <td>0.0</td>\n",
       "      <td>0.00</td>\n",
       "      <td>690.5</td>\n",
       "      <td>1500.0</td>\n",
       "      <td>2190.50</td>\n",
       "    </tr>\n",
       "    <tr>\n",
       "      <td>1</td>\n",
       "      <td>AC</td>\n",
       "      <td>7</td>\n",
       "      <td>DEPUTADO ESTADUAL</td>\n",
       "      <td>MARIA APARECIDA ALVES DE SOUZA</td>\n",
       "      <td>10000000055</td>\n",
       "      <td>2</td>\n",
       "      <td>DEFERIDO</td>\n",
       "      <td>12</td>\n",
       "      <td>10000000021</td>\n",
       "      <td>254</td>\n",
       "      <td>...</td>\n",
       "      <td>0.0</td>\n",
       "      <td>0.0</td>\n",
       "      <td>0.0</td>\n",
       "      <td>0.0</td>\n",
       "      <td>0.0</td>\n",
       "      <td>0.0</td>\n",
       "      <td>821.88</td>\n",
       "      <td>0.0</td>\n",
       "      <td>0.0</td>\n",
       "      <td>821.88</td>\n",
       "    </tr>\n",
       "    <tr>\n",
       "      <td>2</td>\n",
       "      <td>AC</td>\n",
       "      <td>7</td>\n",
       "      <td>DEPUTADO ESTADUAL</td>\n",
       "      <td>ASTÉRIO DE PAULA MOREIRA FILHO</td>\n",
       "      <td>10000000206</td>\n",
       "      <td>2</td>\n",
       "      <td>DEFERIDO</td>\n",
       "      <td>51</td>\n",
       "      <td>10000000028</td>\n",
       "      <td>277</td>\n",
       "      <td>...</td>\n",
       "      <td>0.0</td>\n",
       "      <td>0.0</td>\n",
       "      <td>18100.0</td>\n",
       "      <td>0.0</td>\n",
       "      <td>0.0</td>\n",
       "      <td>0.0</td>\n",
       "      <td>36505.00</td>\n",
       "      <td>17500.0</td>\n",
       "      <td>34500.0</td>\n",
       "      <td>106605.00</td>\n",
       "    </tr>\n",
       "    <tr>\n",
       "      <td>3</td>\n",
       "      <td>AC</td>\n",
       "      <td>7</td>\n",
       "      <td>DEPUTADO ESTADUAL</td>\n",
       "      <td>JOSÉ MASTRANGELO FILHO</td>\n",
       "      <td>10000000514</td>\n",
       "      <td>2</td>\n",
       "      <td>DEFERIDO</td>\n",
       "      <td>23</td>\n",
       "      <td>10000000034</td>\n",
       "      <td>171</td>\n",
       "      <td>...</td>\n",
       "      <td>0.0</td>\n",
       "      <td>0.0</td>\n",
       "      <td>0.0</td>\n",
       "      <td>0.0</td>\n",
       "      <td>0.0</td>\n",
       "      <td>0.0</td>\n",
       "      <td>0.00</td>\n",
       "      <td>0.0</td>\n",
       "      <td>6500.0</td>\n",
       "      <td>6500.00</td>\n",
       "    </tr>\n",
       "    <tr>\n",
       "      <td>4</td>\n",
       "      <td>AC</td>\n",
       "      <td>7</td>\n",
       "      <td>DEPUTADO ESTADUAL</td>\n",
       "      <td>CARLOS ANDRÉ MENEZES DE OLIVEIRA</td>\n",
       "      <td>10000000519</td>\n",
       "      <td>2</td>\n",
       "      <td>DEFERIDO</td>\n",
       "      <td>23</td>\n",
       "      <td>10000000034</td>\n",
       "      <td>244</td>\n",
       "      <td>...</td>\n",
       "      <td>NaN</td>\n",
       "      <td>NaN</td>\n",
       "      <td>NaN</td>\n",
       "      <td>NaN</td>\n",
       "      <td>NaN</td>\n",
       "      <td>NaN</td>\n",
       "      <td>NaN</td>\n",
       "      <td>NaN</td>\n",
       "      <td>NaN</td>\n",
       "      <td>NaN</td>\n",
       "    </tr>\n",
       "  </tbody>\n",
       "</table>\n",
       "<p>5 rows × 56 columns</p>\n",
       "</div>"
      ],
      "text/plain": [
       "  SIGLA_UF  CODIGO_CARGO    DESCRICAO_CARGO                    NOME_CANDIDATO  \\\n",
       "0       AC             7  DEPUTADO ESTADUAL            BENEDITO SILVA BARBOSA   \n",
       "1       AC             7  DEPUTADO ESTADUAL    MARIA APARECIDA ALVES DE SOUZA   \n",
       "2       AC             7  DEPUTADO ESTADUAL    ASTÉRIO DE PAULA MOREIRA FILHO   \n",
       "3       AC             7  DEPUTADO ESTADUAL            JOSÉ MASTRANGELO FILHO   \n",
       "4       AC             7  DEPUTADO ESTADUAL  CARLOS ANDRÉ MENEZES DE OLIVEIRA   \n",
       "\n",
       "   SEQUENCIAL_CANDIDATO  COD_SITUACAO_CANDIDATURA DES_SITUACAO_CANDIDATURA  \\\n",
       "0           10000000504                         2                 DEFERIDO   \n",
       "1           10000000055                         2                 DEFERIDO   \n",
       "2           10000000206                         2                 DEFERIDO   \n",
       "3           10000000514                         2                 DEFERIDO   \n",
       "4           10000000519                         2                 DEFERIDO   \n",
       "\n",
       "   NUMERO_PARTIDO  CODIGO_LEGENDA  CODIGO_OCUPACAO  ... TP_RECEITA_APLICACAO  \\\n",
       "0              23     10000000034              266  ...                  0.0   \n",
       "1              12     10000000021              254  ...                  0.0   \n",
       "2              51     10000000028              277  ...                  0.0   \n",
       "3              23     10000000034              171  ...                  0.0   \n",
       "4              23     10000000034              244  ...                  NaN   \n",
       "\n",
       "   TP_RECEITA_EVENTO  TP_RECEITA_FISICA TP_RECEITA_INTERNET  \\\n",
       "0                0.0                0.0                 0.0   \n",
       "1                0.0                0.0                 0.0   \n",
       "2                0.0            18100.0                 0.0   \n",
       "3                0.0                0.0                 0.0   \n",
       "4                NaN                NaN                 NaN   \n",
       "\n",
       "   TP_RECEITA_JURIDICA TP_RECEITA_NAO_IDENTIFICADA  TP_RECEITA_OUTRO  \\\n",
       "0                  0.0                         0.0              0.00   \n",
       "1                  0.0                         0.0            821.88   \n",
       "2                  0.0                         0.0          36505.00   \n",
       "3                  0.0                         0.0              0.00   \n",
       "4                  NaN                         NaN               NaN   \n",
       "\n",
       "  TP_RECEITA_PARTIDO  TP_RECEITA_PROPRIO VALOR_RECEITA  \n",
       "0              690.5              1500.0       2190.50  \n",
       "1                0.0                 0.0        821.88  \n",
       "2            17500.0             34500.0     106605.00  \n",
       "3                0.0              6500.0       6500.00  \n",
       "4                NaN                 NaN           NaN  \n",
       "\n",
       "[5 rows x 56 columns]"
      ]
     },
     "execution_count": 44,
     "metadata": {},
     "output_type": "execute_result"
    }
   ],
   "source": [
    "df.head()"
   ]
  },
  {
   "cell_type": "code",
   "execution_count": 45,
   "metadata": {},
   "outputs": [
    {
     "data": {
      "text/html": [
       "<div>\n",
       "<style scoped>\n",
       "    .dataframe tbody tr th:only-of-type {\n",
       "        vertical-align: middle;\n",
       "    }\n",
       "\n",
       "    .dataframe tbody tr th {\n",
       "        vertical-align: top;\n",
       "    }\n",
       "\n",
       "    .dataframe thead th {\n",
       "        text-align: right;\n",
       "    }\n",
       "</style>\n",
       "<table border=\"1\" class=\"dataframe\">\n",
       "  <thead>\n",
       "    <tr style=\"text-align: right;\">\n",
       "      <th></th>\n",
       "      <th>SIGLA_UF</th>\n",
       "      <th>CODIGO_CARGO</th>\n",
       "      <th>DESCRICAO_CARGO</th>\n",
       "      <th>NOME_CANDIDATO</th>\n",
       "      <th>SEQUENCIAL_CANDIDATO</th>\n",
       "      <th>COD_SITUACAO_CANDIDATURA</th>\n",
       "      <th>DES_SITUACAO_CANDIDATURA</th>\n",
       "      <th>NUMERO_PARTIDO</th>\n",
       "      <th>CODIGO_LEGENDA</th>\n",
       "      <th>CODIGO_OCUPACAO</th>\n",
       "      <th>...</th>\n",
       "      <th>TP_RECEITA_APLICACAO</th>\n",
       "      <th>TP_RECEITA_EVENTO</th>\n",
       "      <th>TP_RECEITA_FISICA</th>\n",
       "      <th>TP_RECEITA_INTERNET</th>\n",
       "      <th>TP_RECEITA_JURIDICA</th>\n",
       "      <th>TP_RECEITA_NAO_IDENTIFICADA</th>\n",
       "      <th>TP_RECEITA_OUTRO</th>\n",
       "      <th>TP_RECEITA_PARTIDO</th>\n",
       "      <th>TP_RECEITA_PROPRIO</th>\n",
       "      <th>VALOR_RECEITA</th>\n",
       "    </tr>\n",
       "  </thead>\n",
       "  <tbody>\n",
       "    <tr>\n",
       "      <td>21119</td>\n",
       "      <td>TO</td>\n",
       "      <td>7</td>\n",
       "      <td>DEPUTADO ESTADUAL</td>\n",
       "      <td>JOÃO FERREIRA DOS SANTOS</td>\n",
       "      <td>270000000186</td>\n",
       "      <td>2</td>\n",
       "      <td>DEFERIDO</td>\n",
       "      <td>20</td>\n",
       "      <td>270000000008</td>\n",
       "      <td>297</td>\n",
       "      <td>...</td>\n",
       "      <td>0.0</td>\n",
       "      <td>0.0</td>\n",
       "      <td>0.0</td>\n",
       "      <td>0.0</td>\n",
       "      <td>0.0</td>\n",
       "      <td>0.0</td>\n",
       "      <td>1453.05</td>\n",
       "      <td>0.0</td>\n",
       "      <td>0.0</td>\n",
       "      <td>1453.05</td>\n",
       "    </tr>\n",
       "    <tr>\n",
       "      <td>21120</td>\n",
       "      <td>TO</td>\n",
       "      <td>7</td>\n",
       "      <td>DEPUTADO ESTADUAL</td>\n",
       "      <td>ANTÔNIO EVANGELISTA PEREIRA JUNIOR</td>\n",
       "      <td>270000000215</td>\n",
       "      <td>2</td>\n",
       "      <td>DEFERIDO</td>\n",
       "      <td>28</td>\n",
       "      <td>270000000008</td>\n",
       "      <td>999</td>\n",
       "      <td>...</td>\n",
       "      <td>0.0</td>\n",
       "      <td>0.0</td>\n",
       "      <td>109600.0</td>\n",
       "      <td>0.0</td>\n",
       "      <td>27700.0</td>\n",
       "      <td>0.0</td>\n",
       "      <td>22663.69</td>\n",
       "      <td>0.0</td>\n",
       "      <td>61930.0</td>\n",
       "      <td>221893.69</td>\n",
       "    </tr>\n",
       "    <tr>\n",
       "      <td>21121</td>\n",
       "      <td>TO</td>\n",
       "      <td>6</td>\n",
       "      <td>DEPUTADO FEDERAL</td>\n",
       "      <td>WALTER BARROSO VITORINO JUNIOR</td>\n",
       "      <td>270000000282</td>\n",
       "      <td>2</td>\n",
       "      <td>DEFERIDO</td>\n",
       "      <td>77</td>\n",
       "      <td>270000000010</td>\n",
       "      <td>278</td>\n",
       "      <td>...</td>\n",
       "      <td>0.0</td>\n",
       "      <td>0.0</td>\n",
       "      <td>71600.0</td>\n",
       "      <td>0.0</td>\n",
       "      <td>0.0</td>\n",
       "      <td>0.0</td>\n",
       "      <td>18241.21</td>\n",
       "      <td>0.0</td>\n",
       "      <td>10083.4</td>\n",
       "      <td>99924.61</td>\n",
       "    </tr>\n",
       "    <tr>\n",
       "      <td>21122</td>\n",
       "      <td>TO</td>\n",
       "      <td>7</td>\n",
       "      <td>DEPUTADO ESTADUAL</td>\n",
       "      <td>GLAUCO RAFAEL DA COSTA MADUREIRA</td>\n",
       "      <td>270000000212</td>\n",
       "      <td>2</td>\n",
       "      <td>DEFERIDO</td>\n",
       "      <td>12</td>\n",
       "      <td>270000000008</td>\n",
       "      <td>297</td>\n",
       "      <td>...</td>\n",
       "      <td>0.0</td>\n",
       "      <td>0.0</td>\n",
       "      <td>1000.0</td>\n",
       "      <td>0.0</td>\n",
       "      <td>0.0</td>\n",
       "      <td>0.0</td>\n",
       "      <td>9839.69</td>\n",
       "      <td>17000.0</td>\n",
       "      <td>8831.4</td>\n",
       "      <td>36671.09</td>\n",
       "    </tr>\n",
       "    <tr>\n",
       "      <td>21123</td>\n",
       "      <td>TO</td>\n",
       "      <td>7</td>\n",
       "      <td>DEPUTADO ESTADUAL</td>\n",
       "      <td>HOMERO BARRETO JUNIOR</td>\n",
       "      <td>270000000222</td>\n",
       "      <td>2</td>\n",
       "      <td>DEFERIDO</td>\n",
       "      <td>31</td>\n",
       "      <td>270000000008</td>\n",
       "      <td>999</td>\n",
       "      <td>...</td>\n",
       "      <td>0.0</td>\n",
       "      <td>0.0</td>\n",
       "      <td>7864.0</td>\n",
       "      <td>0.0</td>\n",
       "      <td>0.0</td>\n",
       "      <td>0.0</td>\n",
       "      <td>31424.58</td>\n",
       "      <td>0.0</td>\n",
       "      <td>2800.0</td>\n",
       "      <td>42088.58</td>\n",
       "    </tr>\n",
       "  </tbody>\n",
       "</table>\n",
       "<p>5 rows × 56 columns</p>\n",
       "</div>"
      ],
      "text/plain": [
       "      SIGLA_UF  CODIGO_CARGO    DESCRICAO_CARGO  \\\n",
       "21119       TO             7  DEPUTADO ESTADUAL   \n",
       "21120       TO             7  DEPUTADO ESTADUAL   \n",
       "21121       TO             6   DEPUTADO FEDERAL   \n",
       "21122       TO             7  DEPUTADO ESTADUAL   \n",
       "21123       TO             7  DEPUTADO ESTADUAL   \n",
       "\n",
       "                           NOME_CANDIDATO  SEQUENCIAL_CANDIDATO  \\\n",
       "21119            JOÃO FERREIRA DOS SANTOS          270000000186   \n",
       "21120  ANTÔNIO EVANGELISTA PEREIRA JUNIOR          270000000215   \n",
       "21121      WALTER BARROSO VITORINO JUNIOR          270000000282   \n",
       "21122    GLAUCO RAFAEL DA COSTA MADUREIRA          270000000212   \n",
       "21123               HOMERO BARRETO JUNIOR          270000000222   \n",
       "\n",
       "       COD_SITUACAO_CANDIDATURA DES_SITUACAO_CANDIDATURA  NUMERO_PARTIDO  \\\n",
       "21119                         2                 DEFERIDO              20   \n",
       "21120                         2                 DEFERIDO              28   \n",
       "21121                         2                 DEFERIDO              77   \n",
       "21122                         2                 DEFERIDO              12   \n",
       "21123                         2                 DEFERIDO              31   \n",
       "\n",
       "       CODIGO_LEGENDA  CODIGO_OCUPACAO  ... TP_RECEITA_APLICACAO  \\\n",
       "21119    270000000008              297  ...                  0.0   \n",
       "21120    270000000008              999  ...                  0.0   \n",
       "21121    270000000010              278  ...                  0.0   \n",
       "21122    270000000008              297  ...                  0.0   \n",
       "21123    270000000008              999  ...                  0.0   \n",
       "\n",
       "       TP_RECEITA_EVENTO  TP_RECEITA_FISICA TP_RECEITA_INTERNET  \\\n",
       "21119                0.0                0.0                 0.0   \n",
       "21120                0.0           109600.0                 0.0   \n",
       "21121                0.0            71600.0                 0.0   \n",
       "21122                0.0             1000.0                 0.0   \n",
       "21123                0.0             7864.0                 0.0   \n",
       "\n",
       "       TP_RECEITA_JURIDICA TP_RECEITA_NAO_IDENTIFICADA  TP_RECEITA_OUTRO  \\\n",
       "21119                  0.0                         0.0           1453.05   \n",
       "21120              27700.0                         0.0          22663.69   \n",
       "21121                  0.0                         0.0          18241.21   \n",
       "21122                  0.0                         0.0           9839.69   \n",
       "21123                  0.0                         0.0          31424.58   \n",
       "\n",
       "      TP_RECEITA_PARTIDO  TP_RECEITA_PROPRIO VALOR_RECEITA  \n",
       "21119                0.0                 0.0       1453.05  \n",
       "21120                0.0             61930.0     221893.69  \n",
       "21121                0.0             10083.4      99924.61  \n",
       "21122            17000.0              8831.4      36671.09  \n",
       "21123                0.0              2800.0      42088.58  \n",
       "\n",
       "[5 rows x 56 columns]"
      ]
     },
     "execution_count": 45,
     "metadata": {},
     "output_type": "execute_result"
    }
   ],
   "source": [
    "df.tail()"
   ]
  },
  {
   "cell_type": "code",
   "execution_count": 46,
   "metadata": {},
   "outputs": [
    {
     "name": "stdout",
     "output_type": "stream",
     "text": [
      "<class 'pandas.core.frame.DataFrame'>\n",
      "RangeIndex: 21124 entries, 0 to 21123\n",
      "Data columns (total 56 columns):\n",
      "SIGLA_UF                       21124 non-null object\n",
      "CODIGO_CARGO                   21124 non-null int64\n",
      "DESCRICAO_CARGO                21124 non-null object\n",
      "NOME_CANDIDATO                 21124 non-null object\n",
      "SEQUENCIAL_CANDIDATO           21124 non-null int64\n",
      "COD_SITUACAO_CANDIDATURA       21124 non-null int64\n",
      "DES_SITUACAO_CANDIDATURA       21124 non-null object\n",
      "NUMERO_PARTIDO                 21124 non-null int64\n",
      "CODIGO_LEGENDA                 21124 non-null int64\n",
      "CODIGO_OCUPACAO                21124 non-null int64\n",
      "DESCRICAO_OCUPACAO             21124 non-null object\n",
      "IDADE_DATA_ELEICAO             21124 non-null int64\n",
      "CODIGO_SEXO                    21124 non-null int64\n",
      "DESCRICAO_SEXO                 21124 non-null object\n",
      "COD_GRAU_INSTRUCAO             21124 non-null int64\n",
      "DESCRICAO_GRAU_INSTRUCAO       21124 non-null object\n",
      "CODIGO_ESTADO_CIVIL            21124 non-null int64\n",
      "DESCRICAO_ESTADO_CIVIL         21124 non-null object\n",
      "CODIGO_COR_RACA                21124 non-null int64\n",
      "DESCRICAO_COR_RACA             21124 non-null object\n",
      "CODIGO_NACIONALIDADE           21124 non-null int64\n",
      "DESCRICAO_NACIONALIDADE        21124 non-null object\n",
      "DESPESA_MAX_CAMPANHA           21124 non-null int64\n",
      "COD_SIT_TOT_TURNO              21124 non-null int64\n",
      "DESC_SIT_TOT_TURNO             21124 non-null object\n",
      "VALOR_BEM                      12865 non-null float64\n",
      "SETOR_A                        17728 non-null float64\n",
      "SETOR_B                        17728 non-null float64\n",
      "SETOR_C                        17728 non-null float64\n",
      "SETOR_D                        17728 non-null float64\n",
      "SETOR_E                        17728 non-null float64\n",
      "SETOR_F                        17728 non-null float64\n",
      "SETOR_G                        17728 non-null float64\n",
      "SETOR_H                        17728 non-null float64\n",
      "SETOR_I                        17728 non-null float64\n",
      "SETOR_J                        17728 non-null float64\n",
      "SETOR_K                        17728 non-null float64\n",
      "SETOR_L                        17728 non-null float64\n",
      "SETOR_M                        17728 non-null float64\n",
      "SETOR_N                        17728 non-null float64\n",
      "SETOR_O                        17728 non-null float64\n",
      "SETOR_P                        17728 non-null float64\n",
      "SETOR_Q                        17728 non-null float64\n",
      "SETOR_R                        17728 non-null float64\n",
      "SETOR_S                        17728 non-null float64\n",
      "SETOR_NAO_IDENTIFICADO         17728 non-null float64\n",
      "TP_RECEITA_APLICACAO           17728 non-null float64\n",
      "TP_RECEITA_EVENTO              17728 non-null float64\n",
      "TP_RECEITA_FISICA              17728 non-null float64\n",
      "TP_RECEITA_INTERNET            17728 non-null float64\n",
      "TP_RECEITA_JURIDICA            17728 non-null float64\n",
      "TP_RECEITA_NAO_IDENTIFICADA    17728 non-null float64\n",
      "TP_RECEITA_OUTRO               17728 non-null float64\n",
      "TP_RECEITA_PARTIDO             17728 non-null float64\n",
      "TP_RECEITA_PROPRIO             17728 non-null float64\n",
      "VALOR_RECEITA                  17728 non-null float64\n",
      "dtypes: float64(31), int64(14), object(11)\n",
      "memory usage: 9.0+ MB\n"
     ]
    }
   ],
   "source": [
    "df.info()"
   ]
  },
  {
   "cell_type": "code",
   "execution_count": 48,
   "metadata": {},
   "outputs": [],
   "source": [
    "# Selecionando Linhas e Colunas\n"
   ]
  },
  {
   "cell_type": "code",
   "execution_count": null,
   "metadata": {},
   "outputs": [],
   "source": [
    "df['DESCRICAO_SEXO'].value_counts().plot.bar()\n"
   ]
  },
  {
   "cell_type": "code",
   "execution_count": null,
   "metadata": {},
   "outputs": [],
   "source": [
    "df.NUMERO_PARTIDO.value_counts(normalize = True).head(4).plot.bar(figsize=[16,8])\n",
    "#figsize tamanho do gráfico, ficou maior \n",
    "#normalize faz porcentagem \n",
    "#ver matplotlib cookbook no github e tem livro também\n",
    "#Se eu faço .head(4) mostro só os quatro primeiros no gráfico "
   ]
  },
  {
   "cell_type": "markdown",
   "metadata": {},
   "source": [
    "DESCRICAO_GRAU_INSTRUCAO\n",
    "DESCRICAO_ESTADO_CIVIL\n",
    "DESCRICAO_NACIONALIDADE\n",
    "DESCRICAO_CARGO\n",
    "DESCRICAO_COR_RACA"
   ]
  },
  {
   "cell_type": "code",
   "execution_count": null,
   "metadata": {},
   "outputs": [],
   "source": [
    "df['DESCRICAO_GRAU_INSTRUCAO'].value_counts().plot.bar()"
   ]
  },
  {
   "cell_type": "code",
   "execution_count": null,
   "metadata": {},
   "outputs": [],
   "source": [
    "df['DESCRICAO_ESTADO_CIVIL'].value_counts().plot.bar()"
   ]
  },
  {
   "cell_type": "code",
   "execution_count": null,
   "metadata": {},
   "outputs": [],
   "source": [
    "df['DESCRICAO_NACIONALIDADE'].value_counts()"
   ]
  },
  {
   "cell_type": "code",
   "execution_count": null,
   "metadata": {},
   "outputs": [],
   "source": [
    "df['DESCRICAO_CARGO'].value_counts()"
   ]
  },
  {
   "cell_type": "code",
   "execution_count": null,
   "metadata": {},
   "outputs": [],
   "source": [
    "df['DESCRICAO_COR_RACA'].value_counts() #frequencia "
   ]
  },
  {
   "cell_type": "code",
   "execution_count": null,
   "metadata": {},
   "outputs": [],
   "source": [
    "#agrupamentos\n",
    "#groupby\n",
    "#groupby(o que agregar, nesse caso estado)[var_saida, aqui masc/fem].como\n",
    "df.groupby(['SIGLA_UF'])['DESCRICAO_SEXO'].value_counts()"
   ]
  },
  {
   "cell_type": "code",
   "execution_count": null,
   "metadata": {},
   "outputs": [],
   "source": [
    "filtro_coluna = ['SIGLA_UF','DESCRICAO_SEXO']\n",
    "\n"
   ]
  },
  {
   "cell_type": "code",
   "execution_count": null,
   "metadata": {},
   "outputs": [],
   "source": [
    "filtro_masc = df[filtro_coluna]['DESCRICAO_SEXO'] == 'MASCULINO'"
   ]
  },
  {
   "cell_type": "code",
   "execution_count": null,
   "metadata": {},
   "outputs": [],
   "source": [
    "df_filtrado = df[filtro_coluna][filtro_masc]"
   ]
  },
  {
   "cell_type": "code",
   "execution_count": null,
   "metadata": {},
   "outputs": [],
   "source": [
    "df_filtrado.head()"
   ]
  },
  {
   "cell_type": "code",
   "execution_count": null,
   "metadata": {},
   "outputs": [],
   "source": [
    "df.head(2)"
   ]
  },
  {
   "cell_type": "code",
   "execution_count": null,
   "metadata": {},
   "outputs": [],
   "source": [
    "filtro_homem = df.DESCRICAO_SEXO == 'MASCULINO' #df.tab aparecem todas as colunas\n",
    "filtro_sp = df.SIGLA_UF == 'SP'"
   ]
  },
  {
   "cell_type": "code",
   "execution_count": null,
   "metadata": {},
   "outputs": [],
   "source": [
    "df[filtro_homem & filtro_sp].head()"
   ]
  },
  {
   "cell_type": "code",
   "execution_count": null,
   "metadata": {},
   "outputs": [],
   "source": [
    "df[filtro_homem & filtro_sp].shape"
   ]
  },
  {
   "cell_type": "code",
   "execution_count": null,
   "metadata": {},
   "outputs": [],
   "source": [
    "df.columns"
   ]
  },
  {
   "cell_type": "code",
   "execution_count": null,
   "metadata": {},
   "outputs": [],
   "source": [
    "df['DESCRICAO_GRAU_INSTRUCAO'].unique()"
   ]
  },
  {
   "cell_type": "code",
   "execution_count": null,
   "metadata": {},
   "outputs": [],
   "source": [
    "df['DESCRICAO_GRAU_INSTRUCAO'].nunique()"
   ]
  },
  {
   "cell_type": "code",
   "execution_count": null,
   "metadata": {},
   "outputs": [],
   "source": [
    "projetar = {'LÊ E ESCREVE': 1,\n",
    "'ENSINO FUNDAMENTAL INCOMPLETO':2,\n",
    "'ENSINO FUNDAMENTAL COMPLETO': 3,\n",
    "'ENSINO MÉDIO INCOMPLETO': 4,\n",
    "'ENSINO MÉDIO COMPLETO': 5,\n",
    "'SUPERIOR INCOMPLETO': 6,\n",
    "'SUPERIOR COMPLETO':7} "
   ]
  },
  {
   "cell_type": "code",
   "execution_count": null,
   "metadata": {},
   "outputs": [],
   "source": [
    "df['DESCRICAO_GRAU_INSTRUCAO'].head(3)"
   ]
  },
  {
   "cell_type": "code",
   "execution_count": null,
   "metadata": {},
   "outputs": [],
   "source": [
    "df['DESCRICAO_GRAU_INSTRUCAO'].head(3).map(projetar)\n",
    "# transforma as strings em dados para fazer média e outros cálculos \n",
    "# posso pegar uma faixa de idade de 0 a 15 anos e ser número 1 "
   ]
  },
  {
   "cell_type": "code",
   "execution_count": null,
   "metadata": {},
   "outputs": [],
   "source": [
    "df['DESCRICAO_GRAU_INSTRUCAO'].map(projetar).value_counts().plot.pie()\n",
    "# consigo mapear com números a formação dos candidatos "
   ]
  },
  {
   "cell_type": "code",
   "execution_count": null,
   "metadata": {},
   "outputs": [],
   "source": [
    "df['CODIGO_GRAU_INSTRUCAO'] = df['DESCRICAO_GRAU_INSTRUCAO'].map(projetar)\n",
    "#criei nova coluna com os dados do map"
   ]
  },
  {
   "cell_type": "code",
   "execution_count": null,
   "metadata": {},
   "outputs": [],
   "source": [
    "df.VALOR_BEM.isna().sum() # número de valores nulos de cada coluna "
   ]
  },
  {
   "cell_type": "code",
   "execution_count": null,
   "metadata": {},
   "outputs": [],
   "source": [
    "df.VALOR_BEM.fillna()"
   ]
  },
  {
   "cell_type": "code",
   "execution_count": null,
   "metadata": {},
   "outputs": [],
   "source": [
    "xy= df.groupby('CODIGO_GRAU_INSTRUCAO')['VALOR_BEM'].mean().reset_index()\n",
    "xy\n",
    "#fazer sem reset_index para testar "
   ]
  },
  {
   "cell_type": "code",
   "execution_count": null,
   "metadata": {},
   "outputs": [],
   "source": [
    "xy.plot.scatter(x='CODIGO_GRAU_INSTRUCAO', y='VALOR_BEM')"
   ]
  },
  {
   "cell_type": "code",
   "execution_count": null,
   "metadata": {},
   "outputs": [],
   "source": [
    "from sklearn.linear_model import LinearRegression"
   ]
  },
  {
   "cell_type": "code",
   "execution_count": null,
   "metadata": {},
   "outputs": [],
   "source": [
    "modelo = LinearRegression()"
   ]
  },
  {
   "cell_type": "code",
   "execution_count": null,
   "metadata": {},
   "outputs": [],
   "source": [
    "modelo.fit(X = xy.CODIGO_GRAU_INSTRUCAO.values.reshape(-1,1),\n",
    "           y = xy.VALOR_BEM)"
   ]
  },
  {
   "cell_type": "code",
   "execution_count": null,
   "metadata": {},
   "outputs": [],
   "source": [
    "import numpy as np"
   ]
  },
  {
   "cell_type": "code",
   "execution_count": null,
   "metadata": {},
   "outputs": [],
   "source": [
    "x=np.arange(8).reshape(-1,1)"
   ]
  },
  {
   "cell_type": "code",
   "execution_count": null,
   "metadata": {},
   "outputs": [],
   "source": [
    "modelo.predict(x)"
   ]
  },
  {
   "cell_type": "code",
   "execution_count": null,
   "metadata": {},
   "outputs": [],
   "source": [
    "import matplotlib.pyplot as plt"
   ]
  },
  {
   "cell_type": "code",
   "execution_count": null,
   "metadata": {},
   "outputs": [],
   "source": [
    "xy.plot.scatter(x = 'CODIGO_GRAU_INSTRUCAO', y='VALOR_BEM')\n",
    "plt.plot(modelo.predict(x), c='y') # o c é parâmetro de cor y de yellow "
   ]
  },
  {
   "cell_type": "code",
   "execution_count": null,
   "metadata": {},
   "outputs": [],
   "source": [
    "xy.CODIGO_GRAU_INSTRUCAO.values"
   ]
  },
  {
   "cell_type": "code",
   "execution_count": null,
   "metadata": {},
   "outputs": [],
   "source": [
    "xy.CODIGO_GRAU_INSTRUCAO.values.ndim # número de dimensões"
   ]
  },
  {
   "cell_type": "code",
   "execution_count": null,
   "metadata": {},
   "outputs": [],
   "source": [
    "# vou fazer duas dimensões\n",
    "xy.CODIGO_GRAU_INSTRUCAO.values.reshape(-1,1)"
   ]
  },
  {
   "cell_type": "code",
   "execution_count": null,
   "metadata": {},
   "outputs": [],
   "source": []
  },
  {
   "cell_type": "code",
   "execution_count": null,
   "metadata": {},
   "outputs": [],
   "source": [
    "# Agregando Dados"
   ]
  },
  {
   "cell_type": "code",
   "execution_count": null,
   "metadata": {},
   "outputs": [],
   "source": [
    "# Criando e Salvando Novas Tabelas"
   ]
  },
  {
   "cell_type": "code",
   "execution_count": null,
   "metadata": {},
   "outputs": [],
   "source": [
    "# Ordenando valores"
   ]
  },
  {
   "cell_type": "code",
   "execution_count": null,
   "metadata": {},
   "outputs": [],
   "source": [
    "# Substituindo valores"
   ]
  },
  {
   "cell_type": "code",
   "execution_count": null,
   "metadata": {},
   "outputs": [],
   "source": [
    "# Adicionando novas informações usando .cut"
   ]
  },
  {
   "cell_type": "code",
   "execution_count": null,
   "metadata": {},
   "outputs": [],
   "source": [
    "# Adicionando novas informações usando operações matemáticas"
   ]
  },
  {
   "cell_type": "code",
   "execution_count": null,
   "metadata": {},
   "outputs": [],
   "source": [
    "# Deletando informações em Séries e DataFrames .drop"
   ]
  },
  {
   "cell_type": "code",
   "execution_count": null,
   "metadata": {},
   "outputs": [],
   "source": [
    "# Filtrando dados por condições"
   ]
  },
  {
   "cell_type": "markdown",
   "metadata": {},
   "source": [
    "# Escala Ordinal\n",
    "1. Rankeamento\n",
    "    1. Lugar que terminou a competição (mas não sabemos dizer o quão rápido vc foi na corrida)\n",
    "    2. Estatus socio-economico\n",
    "\n",
    "\n",
    "2. Ordem importa\n",
    "\n",
    "\n",
    "3. São iguais ou diferentes, mas também maiores e menores\n",
    "\n",
    "\n",
    "4. Diferenças não podem ser medidas\n",
    "\n",
    "\n",
    "5. Medições\n",
    "    1. Media \n",
    "    2. Percentil (Percentile) \n",
    "    3. Nao se pode calcular a média pq a diferenca entre valores na escala não é sabido\n",
    "\n",
    "\n",
    "6. Gráficos\n",
    "    1. Barras"
   ]
  },
  {
   "cell_type": "code",
   "execution_count": null,
   "metadata": {},
   "outputs": [],
   "source": []
  },
  {
   "cell_type": "code",
   "execution_count": null,
   "metadata": {},
   "outputs": [],
   "source": []
  },
  {
   "cell_type": "code",
   "execution_count": null,
   "metadata": {},
   "outputs": [],
   "source": []
  },
  {
   "cell_type": "markdown",
   "metadata": {},
   "source": [
    "# Agrupamentos"
   ]
  },
  {
   "cell_type": "code",
   "execution_count": null,
   "metadata": {},
   "outputs": [],
   "source": []
  },
  {
   "cell_type": "code",
   "execution_count": null,
   "metadata": {},
   "outputs": [],
   "source": [
    "pd.read_csv('datasets/Consumo_cerveja.csv') #datasets barra e tab para abrir o menu"
   ]
  },
  {
   "cell_type": "code",
   "execution_count": null,
   "metadata": {},
   "outputs": [],
   "source": []
  },
  {
   "cell_type": "markdown",
   "metadata": {},
   "source": [
    "# Fim\n",
    "\n",
    "![Fim](https://media.giphy.com/media/V2ojLo7PvhVug/giphy.gif)"
   ]
  },
  {
   "cell_type": "code",
   "execution_count": null,
   "metadata": {},
   "outputs": [],
   "source": []
  }
 ],
 "metadata": {
  "kernelspec": {
   "display_name": "Python 3",
   "language": "python",
   "name": "python3"
  },
  "language_info": {
   "codemirror_mode": {
    "name": "ipython",
    "version": 3
   },
   "file_extension": ".py",
   "mimetype": "text/x-python",
   "name": "python",
   "nbconvert_exporter": "python",
   "pygments_lexer": "ipython3",
   "version": "3.7.6"
  },
  "toc": {
   "base_numbering": 1,
   "nav_menu": {},
   "number_sections": true,
   "sideBar": true,
   "skip_h1_title": false,
   "title_cell": "Table of Contents",
   "title_sidebar": "Contents",
   "toc_cell": false,
   "toc_position": {},
   "toc_section_display": true,
   "toc_window_display": false
  }
 },
 "nbformat": 4,
 "nbformat_minor": 4
}
